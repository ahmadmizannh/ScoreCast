{
 "cells": [
  {
   "cell_type": "markdown",
   "source": [
    "CHAMPIONS league"
   ],
   "metadata": {
    "collapsed": false
   }
  },
  {
   "cell_type": "code",
   "execution_count": 9,
   "outputs": [
    {
     "name": "stdout",
     "output_type": "stream",
     "text": [
      "               home_team            away_team HomeGoals AwayGoals\n",
      "0       Dinamo Zagreb hr          eng Chelsea         1         0\n",
      "1            Dortmund de     dk FC Copenhagen         3         0\n",
      "2             Celtic sct       es Real Madrid         0         3\n",
      "3             Benfica pt     il Maccabi Haifa         2         0\n",
      "4         RB Salzburg at             it Milan         1         1\n",
      "..                   ...                  ...       ...       ...\n",
      "126       Real Madrid es  eng Manchester City         1         1\n",
      "127             Milan it             it Inter         0         2\n",
      "128             Inter it             it Milan         1         0\n",
      "129  Manchester City eng       es Real Madrid         4         0\n",
      "130  Manchester City eng             it Inter       NaN       NaN\n",
      "\n",
      "[131 rows x 4 columns]\n"
     ]
    }
   ],
   "source": [
    "import pandas as pd\n",
    "\n",
    "# Read the Champions League data from the CSV file\n",
    "df_champions_league_data = pd.read_csv('champions_league_data.csv')\n",
    "\n",
    "# Cleaning score and home/away columns\n",
    "df_champions_league_data['score'] = df_champions_league_data['score'].str.replace('[^\\d–]', '', regex=True)\n",
    "df_champions_league_data['home_team'] = df_champions_league_data['home_team'].str.strip()\n",
    "df_champions_league_data['away_team'] = df_champions_league_data['away_team'].str.strip()\n",
    "\n",
    "# Splitting score columns into home and away goals and dropping the score column\n",
    "df_champions_league_data[['HomeGoals', 'AwayGoals']] = df_champions_league_data['score'].str.split('–', expand=True)\n",
    "df_champions_league_data.drop('score', axis=1, inplace=True)\n",
    "\n",
    "# Print the updated DataFrame\n",
    "print(df_champions_league_data)\n",
    "# Convert the cleaned FA Cup data to a new CSV file\n",
    "df_champions_league_data.to_csv('clean_data_cl.csv', index=False)\n"
   ],
   "metadata": {
    "collapsed": false,
    "ExecuteTime": {
     "end_time": "2023-05-23T21:51:21.287634800Z",
     "start_time": "2023-05-23T21:51:21.212129200Z"
    }
   }
  },
  {
   "cell_type": "code",
   "execution_count": 10,
   "outputs": [
    {
     "name": "stdout",
     "output_type": "stream",
     "text": [
      "           home_team       away_team HomeGoals AwayGoals\n",
      "0     Sheffield Weds       Morecambe         2         0\n",
      "1           Hereford      Portsmouth         1         3\n",
      "2        Sth Shields       FG Rovers         0         2\n",
      "3      Bradford City       Harrogate         0         1\n",
      "4             Bolton        Barnsley         1         2\n",
      "..               ...             ...       ...       ...\n",
      "139         Brighton    Grimsby Town         5         0\n",
      "140   Manchester Utd          Fulham         3         1\n",
      "141  Manchester City   Sheffield Utd         3         0\n",
      "142         Brighton  Manchester Utd         0         0\n",
      "143  Manchester City  Manchester Utd       NaN       NaN\n",
      "\n",
      "[144 rows x 4 columns]\n"
     ]
    }
   ],
   "source": [
    "import pandas as pd\n",
    "\n",
    "# Read the FA Cup data from the CSV file\n",
    "df_fa_cup_data = pd.read_csv('fa_cup_data.csv')\n",
    "\n",
    "# Remove \"eng\" from all columns\n",
    "df_fa_cup_data = df_fa_cup_data.apply(lambda x: x.str.replace('eng', ''))\n",
    "\n",
    "# Cleaning score and home/away columns\n",
    "df_fa_cup_data['score'] = df_fa_cup_data['score'].str.replace('[^\\d–]', '', regex=True)\n",
    "df_fa_cup_data['home_team'] = df_fa_cup_data['home_team'].str.strip()\n",
    "df_fa_cup_data['away_team'] = df_fa_cup_data['away_team'].str.strip()\n",
    "\n",
    "# Splitting score columns into home and away goals and dropping the score column\n",
    "df_fa_cup_data[['HomeGoals', 'AwayGoals']] = df_fa_cup_data['score'].str.split('–', expand=True)\n",
    "df_fa_cup_data.drop('score', axis=1, inplace=True)\n",
    "\n",
    "# Print the updated DataFrame\n",
    "print(df_fa_cup_data)\n",
    "# Convert the cleaned FA Cup data to a new CSV file\n",
    "df_fa_cup_data.to_csv('clean_data_fa_cup.csv', index=False)\n"
   ],
   "metadata": {
    "collapsed": false,
    "ExecuteTime": {
     "end_time": "2023-05-23T21:51:21.291656Z",
     "start_time": "2023-05-23T21:51:21.245550200Z"
    }
   }
  },
  {
   "cell_type": "code",
   "execution_count": 10,
   "outputs": [],
   "source": [],
   "metadata": {
    "collapsed": false,
    "ExecuteTime": {
     "end_time": "2023-05-23T21:51:21.291656Z",
     "start_time": "2023-05-23T21:51:21.277198500Z"
    }
   }
  },
  {
   "cell_type": "code",
   "execution_count": 10,
   "outputs": [],
   "source": [],
   "metadata": {
    "collapsed": false,
    "ExecuteTime": {
     "end_time": "2023-05-23T21:51:21.291656Z",
     "start_time": "2023-05-23T21:51:21.285117100Z"
    }
   }
  }
 ],
 "metadata": {
  "kernelspec": {
   "display_name": "Python 3",
   "language": "python",
   "name": "python3"
  },
  "language_info": {
   "codemirror_mode": {
    "name": "ipython",
    "version": 2
   },
   "file_extension": ".py",
   "mimetype": "text/x-python",
   "name": "python",
   "nbconvert_exporter": "python",
   "pygments_lexer": "ipython2",
   "version": "2.7.6"
  }
 },
 "nbformat": 4,
 "nbformat_minor": 0
}
